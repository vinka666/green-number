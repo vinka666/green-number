{
 "cells": [
  {
   "cell_type": "markdown",
   "id": "f5d8e078",
   "metadata": {},
   "source": [
    "# Merging Multiple .h5 Files"
   ]
  },
  {
   "cell_type": "markdown",
   "id": "fd65974d",
   "metadata": {},
   "source": [
    "This notebook is designed to merge multiple `.h5` files into a single DataFrame based on a common date index. Each `.h5` file is assumed to contain stock or crypto data with columns named using the ticker symbol as a prefix."
   ]
  },
  {
   "cell_type": "markdown",
   "id": "4f9ff4e1",
   "metadata": {},
   "source": [
    "## Setup"
   ]
  },
  {
   "cell_type": "code",
   "execution_count": null,
   "id": "bbf0e4ad",
   "metadata": {},
   "outputs": [],
   "source": [
    "import os\n",
    "import pandas as pd"
   ]
  },
  {
   "cell_type": "markdown",
   "id": "f37810f4",
   "metadata": {},
   "source": [
    "## Load .h5 Files"
   ]
  },
  {
   "cell_type": "code",
   "execution_count": null,
   "id": "463cf0d3",
   "metadata": {},
   "outputs": [],
   "source": [
    "\n",
    "# Specify the directory where the .h5 files are located\n",
    "data_dir = \"path/to/directory/with/h5/files\"\n",
    "\n",
    "# Initialize an empty list to store DataFrames\n",
    "dfs = []\n",
    "\n",
    "# Loop through all files in the directory and load them into DataFrames\n",
    "for filename in os.listdir(data_dir):\n",
    "    if filename.endswith(\".h5\"):\n",
    "        file_path = os.path.join(data_dir, filename)\n",
    "        df = pd.read_hdf(file_path)\n",
    "        dfs.append(df)\n",
    "\n",
    "# Display the first DataFrame to check the structure\n",
    "dfs[0].head()\n",
    "    "
   ]
  },
  {
   "cell_type": "markdown",
   "id": "034b8aa9",
   "metadata": {},
   "source": [
    "## Merge DataFrames"
   ]
  },
  {
   "cell_type": "code",
   "execution_count": null,
   "id": "f2c6c8db",
   "metadata": {},
   "outputs": [],
   "source": [
    "\n",
    "# Initialize an empty DataFrame to hold the merged data\n",
    "merged_df = pd.DataFrame()\n",
    "\n",
    "# Merge all DataFrames based on the date index\n",
    "for df in dfs:\n",
    "    if merged_df.empty:\n",
    "        merged_df = df\n",
    "    else:\n",
    "        merged_df = pd.merge(merged_df, df, left_index=True, right_index=True, how='outer')\n",
    "\n",
    "# Display the first few rows of the merged DataFrame\n",
    "merged_df.head()\n",
    "    "
   ]
  },
  {
   "cell_type": "markdown",
   "id": "3283f0f8",
   "metadata": {},
   "source": [
    "## Save Merged DataFrame"
   ]
  },
  {
   "cell_type": "code",
   "execution_count": null,
   "id": "0f3904fa",
   "metadata": {},
   "outputs": [],
   "source": [
    "\n",
    "# Save the merged DataFrame to a new .h5 file\n",
    "merged_file_path = \"path/to/save/merged.h5\"\n",
    "merged_df.to_hdf(merged_file_path, key='df', mode='w')\n",
    "\n",
    "print(f\"Merged DataFrame saved to {merged_file_path}\")\n",
    "    "
   ]
  }
 ],
 "metadata": {
  "kernelspec": {
   "display_name": "Python 3 (ipykernel)",
   "language": "python",
   "name": "python3"
  },
  "language_info": {
   "codemirror_mode": {
    "name": "ipython",
    "version": 3
   },
   "file_extension": ".py",
   "mimetype": "text/x-python",
   "name": "python",
   "nbconvert_exporter": "python",
   "pygments_lexer": "ipython3",
   "version": "3.9.13"
  }
 },
 "nbformat": 4,
 "nbformat_minor": 5
}
